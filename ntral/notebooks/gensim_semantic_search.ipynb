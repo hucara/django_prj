{
 "cells": [
  {
   "cell_type": "markdown",
   "metadata": {},
   "source": [
    "## Gensim text retrieval semantic engine\n",
    "\n",
    "* Gensim text retrieval semantic engine with Latent Semantic Indexing (LSA in TR).\n",
    "* Dataset is https://www.kaggle.com/rmisra/news-category-dataset with 202372 entries. "
   ]
  },
  {
   "cell_type": "code",
   "execution_count": 1,
   "metadata": {},
   "outputs": [],
   "source": [
    "import json\n",
    "import gensim"
   ]
  },
  {
   "cell_type": "code",
   "execution_count": 2,
   "metadata": {},
   "outputs": [],
   "source": [
    "DATA_PATH = \"../data/News_Category_Dataset_v2.json\"\n",
    "DATA_LEN = 202372"
   ]
  },
  {
   "cell_type": "markdown",
   "metadata": {},
   "source": [
    "### Corpus preprocessing"
   ]
  },
  {
   "cell_type": "code",
   "execution_count": 3,
   "metadata": {},
   "outputs": [],
   "source": [
    "from gensim.parsing.preprocessing import STOPWORDS\n",
    "\n",
    "def tokenize(text):\n",
    "    return [token for token in gensim.utils.simple_preprocess(text) if token not in STOPWORDS]\n",
    "\n",
    "def iter_news(file):\n",
    "    for line in open(file):\n",
    "        line = json.loads(line)['headline'] + json.loads(line)['short_description']\n",
    "        tokens = tokenize(line)\n",
    "        yield line, tokens"
   ]
  },
  {
   "cell_type": "code",
   "execution_count": 4,
   "metadata": {},
   "outputs": [
    {
     "name": "stdout",
     "output_type": "stream",
     "text": [
      "Wall time: 17.7 s\n",
      "Dictionary(168877 unique tokens: ['america', 'children', 'day', 'husband', 'killed']...)\n"
     ]
    }
   ],
   "source": [
    "# stream just tokens\n",
    "doc_stream = (tokens for _, tokens in iter_news(DATA_PATH))\n",
    "\n",
    "# build dict\n",
    "%time id2word_news = gensim.corpora.Dictionary(doc_stream)\n",
    "print(id2word_news)"
   ]
  },
  {
   "cell_type": "code",
   "execution_count": 5,
   "metadata": {},
   "outputs": [
    {
     "name": "stdout",
     "output_type": "stream",
     "text": [
      "Dictionary(14366 unique tokens: ['america', 'children', 'day', 'husband', 'killed']...)\n"
     ]
    }
   ],
   "source": [
    "# ignore words that appear in less than 20 documents or more than 10% documents\n",
    "id2word_news.filter_extremes(no_below=20, no_above=0.1)\n",
    "print(id2word_news)"
   ]
  },
  {
   "cell_type": "code",
   "execution_count": 6,
   "metadata": {},
   "outputs": [],
   "source": [
    "class NewsCorpus():\n",
    "    \n",
    "    def __init__(self, file, dictionary):\n",
    "        self.file = file\n",
    "        self.dict = dictionary\n",
    "        \n",
    "    def __iter__(self):\n",
    "        self.titles = []\n",
    "        for title, tokens in iter_news(self.file):\n",
    "            self.titles.append(title)\n",
    "            yield self.dict.doc2bow(tokens)\n",
    "        \n",
    "            \n",
    "# create a stream of bag-of-words vectors\n",
    "news_corpus = NewsCorpus(DATA_PATH, id2word_news)\n",
    "vector = next(iter(news_corpus))"
   ]
  },
  {
   "cell_type": "code",
   "execution_count": 7,
   "metadata": {},
   "outputs": [
    {
     "name": "stdout",
     "output_type": "stream",
     "text": [
      "Wall time: 19.3 s\n"
     ]
    }
   ],
   "source": [
    "# store corpus\n",
    "%time gensim.corpora.MmCorpus.serialize('../data/news_bow.mm', news_corpus)\n",
    "\n",
    "# store dictionary\n",
    "id2word_news.save('../data/news.dict')"
   ]
  },
  {
   "cell_type": "code",
   "execution_count": 8,
   "metadata": {},
   "outputs": [
    {
     "name": "stdout",
     "output_type": "stream",
     "text": [
      "MmCorpus(200853 documents, 14366 features, 2548042 non-zero entries)\n"
     ]
    }
   ],
   "source": [
    "# load dictionary\n",
    "id2word_news = gensim.corpora.Dictionary.load('../data/news.dict')\n",
    "\n",
    "# load corpus\n",
    "mm_corpus = gensim.corpora.MmCorpus('../data/news_bow.mm')\n",
    "print(mm_corpus)"
   ]
  },
  {
   "cell_type": "code",
   "execution_count": 9,
   "metadata": {},
   "outputs": [
    {
     "name": "stdout",
     "output_type": "stream",
     "text": [
      "Wall time: 46.4 s\n"
     ]
    }
   ],
   "source": [
    "%time lsi = gensim.models.lsimodel.LsiModel(corpus=mm_corpus, id2word=id2word_news)"
   ]
  },
  {
   "cell_type": "code",
   "execution_count": 10,
   "metadata": {},
   "outputs": [],
   "source": [
    "lsi.save('../data/lsi_news.model')"
   ]
  },
  {
   "cell_type": "code",
   "execution_count": 11,
   "metadata": {},
   "outputs": [],
   "source": [
    "lsi = lsi.load('../data/lsi_news.model')"
   ]
  },
  {
   "cell_type": "code",
   "execution_count": 12,
   "metadata": {},
   "outputs": [
    {
     "name": "stdout",
     "output_type": "stream",
     "text": [
      "Wall time: 48.3 s\n"
     ]
    }
   ],
   "source": [
    "# build the index\n",
    "from gensim import similarities\n",
    "%time index = similarities.MatrixSimilarity(lsi[mm_corpus])\n",
    "index.save('../data/lsi_news.index')"
   ]
  },
  {
   "cell_type": "markdown",
   "metadata": {},
   "source": [
    "## Search example"
   ]
  },
  {
   "cell_type": "code",
   "execution_count": 13,
   "metadata": {},
   "outputs": [],
   "source": [
    "import gensim\n",
    "\n",
    "lsi = gensim.models.lsimodel.LsiModel.load('../data/lsi_news.model')\n",
    "index = gensim.similarities.MatrixSimilarity.load('../data/lsi_news.index')\n",
    "dictionary = gensim.corpora.Dictionary.load('../data/news.dict')"
   ]
  },
  {
   "cell_type": "code",
   "execution_count": 34,
   "metadata": {},
   "outputs": [],
   "source": [
    "# transform doc into lsi vector space (we need the model for this)\n",
    "doc = \"boat\"\n",
    "vec_bow = dictionary.doc2bow(doc.lower().split())\n",
    "vec_lsi = lsi[vec_bow]\n",
    "\n",
    "# query doc (we need the index for this)\n",
    "sims = index[vec_lsi]\n",
    "\n",
    "# sort by similarity\n",
    "sims = sorted(enumerate(sims), key=lambda item: -item[1])"
   ]
  },
  {
   "cell_type": "code",
   "execution_count": 35,
   "metadata": {
    "scrolled": true
   },
   "outputs": [
    {
     "name": "stdout",
     "output_type": "stream",
     "text": [
      "[(40531, 0.72241807), (81065, 0.6100451), (40433, 0.60876673), (93370, 0.6077832), (75909, 0.60237277), (78568, 0.59833413), (47225, 0.58883095), (76253, 0.5884743), (25472, 0.5865745), (98799, 0.5863053)]\n"
     ]
    }
   ],
   "source": [
    "# print most similar docs\n",
    "print(sims[:10])"
   ]
  },
  {
   "cell_type": "code",
   "execution_count": 42,
   "metadata": {},
   "outputs": [
    {
     "name": "stdout",
     "output_type": "stream",
     "text": [
      "[((25472, 0.5865745), 'Blue Whale Found Dead On Northern California Beach Likely Struck By Ship', '79-foot female suffered blunt force trauma and several broken bones.'), ((40433, 0.60876673), 'Thousands Of Snow Geese Thought Dead After Landing On Toxic Mining Pit', 'Berkeley Pit is nearly 700 acres of acidic, deadly water.'), ((40531, 0.72241807), 'Four Migrants Drown Off Coast Of Morocco', 'They were in an inflatable boat.'), ((47225, 0.58883095), 'More Than 130 Bodies Recovered From Migrant Boat Capsized Off Egypt', 'The ship was carrying Africans headed for Italy.'), ((75909, 0.60237277), '6 Infants Drown When Migrant Boat Capsizes Off Greek Island', 'ATHENS, Nov 1 (Reuters) - Eleven migrants including six infants drowned when their boat capsized off the Greek island of'), ((76253, 0.5884743), 'Coast Guard Crew Travels Thousands Of Miles To Rescue 36 Stranded Fishermen', 'The fishermen spent more than 10 hours in skiffs after abandoning ship.'), ((78568, 0.59833413), 'Dozens Of Endangered Seals Wash Up Dead, Starving On California Beaches', 'The threatened Guadalupe fur seal could be the latest victim of the unusually warm waters in the eastern Pacific Ocean.'), ((81065, 0.6100451), \"Hundreds Of Unwanted Pets Dumped On 'Dead Dog Beach'\", 'A dog with a broken leg and pellet wound in his neck limps along a beach, helpless, wondering if he will ever be safe again'), ((93370, 0.6077832), 'Walking With My Ancestors On Cannon Beach', ''), ((98799, 0.5863053), 'About 700 Migrants Rescued Off Coast Of Libya', '')]\n"
     ]
    }
   ],
   "source": [
    "import json\n",
    "sim_rank = sims[:10]\n",
    "sim_ids = [i[0] for i in sim_rank]\n",
    "\n",
    "fp = open(DATA_PATH)\n",
    "result = []\n",
    "for line_idx, line in enumerate(fp):\n",
    "    if line_idx in sim_ids:\n",
    "        sim_idx = sim_ids.index(line_idx)\n",
    "        sim_val = sim_rank[sim_idx]\n",
    "        line = json.loads(line)\n",
    "        result.append(\n",
    "            (sim_val, line['headline'], line['short_description'])\n",
    "        )\n",
    "\n",
    "print(result)\n"
   ]
  },
  {
   "cell_type": "code",
   "execution_count": 45,
   "metadata": {},
   "outputs": [
    {
     "ename": "TypeError",
     "evalue": "'order' is an invalid keyword argument for sort()",
     "output_type": "error",
     "traceback": [
      "\u001b[1;31m---------------------------------------------------------------------------\u001b[0m",
      "\u001b[1;31mTypeError\u001b[0m                                 Traceback (most recent call last)",
      "\u001b[1;32m<ipython-input-45-3e83fc9be13f>\u001b[0m in \u001b[0;36m<module>\u001b[1;34m\u001b[0m\n\u001b[1;32m----> 1\u001b[1;33m \u001b[0mresult\u001b[0m\u001b[1;33m.\u001b[0m\u001b[0msort\u001b[0m\u001b[1;33m(\u001b[0m\u001b[0mkey\u001b[0m\u001b[1;33m=\u001b[0m\u001b[1;32mlambda\u001b[0m \u001b[0mtup\u001b[0m\u001b[1;33m:\u001b[0m\u001b[0mtup\u001b[0m\u001b[1;33m[\u001b[0m\u001b[1;36m0\u001b[0m\u001b[1;33m]\u001b[0m\u001b[1;33m[\u001b[0m\u001b[1;36m1\u001b[0m\u001b[1;33m]\u001b[0m\u001b[1;33m,\u001b[0m \u001b[0morder\u001b[0m\u001b[1;33m=\u001b[0m \u001b[1;33m-\u001b[0m\u001b[1;36m1\u001b[0m\u001b[1;33m)\u001b[0m\u001b[1;33m\u001b[0m\u001b[1;33m\u001b[0m\u001b[0m\n\u001b[0m",
      "\u001b[1;31mTypeError\u001b[0m: 'order' is an invalid keyword argument for sort()"
     ]
    }
   ],
   "source": [
    "result.sort(key=lambda tup:tup[0][1], order= -1)"
   ]
  },
  {
   "cell_type": "code",
   "execution_count": 46,
   "metadata": {},
   "outputs": [
    {
     "data": {
      "text/plain": [
       "[((98799, 0.5863053), 'About 700 Migrants Rescued Off Coast Of Libya', ''),\n",
       " ((25472, 0.5865745),\n",
       "  'Blue Whale Found Dead On Northern California Beach Likely Struck By Ship',\n",
       "  '79-foot female suffered blunt force trauma and several broken bones.'),\n",
       " ((76253, 0.5884743),\n",
       "  'Coast Guard Crew Travels Thousands Of Miles To Rescue 36 Stranded Fishermen',\n",
       "  'The fishermen spent more than 10 hours in skiffs after abandoning ship.'),\n",
       " ((47225, 0.58883095),\n",
       "  'More Than 130 Bodies Recovered From Migrant Boat Capsized Off Egypt',\n",
       "  'The ship was carrying Africans headed for Italy.'),\n",
       " ((78568, 0.59833413),\n",
       "  'Dozens Of Endangered Seals Wash Up Dead, Starving On California Beaches',\n",
       "  'The threatened Guadalupe fur seal could be the latest victim of the unusually warm waters in the eastern Pacific Ocean.'),\n",
       " ((75909, 0.60237277),\n",
       "  '6 Infants Drown When Migrant Boat Capsizes Off Greek Island',\n",
       "  'ATHENS, Nov 1 (Reuters) - Eleven migrants including six infants drowned when their boat capsized off the Greek island of'),\n",
       " ((93370, 0.6077832), 'Walking With My Ancestors On Cannon Beach', ''),\n",
       " ((40433, 0.60876673),\n",
       "  'Thousands Of Snow Geese Thought Dead After Landing On Toxic Mining Pit',\n",
       "  'Berkeley Pit is nearly 700 acres of acidic, deadly water.'),\n",
       " ((81065, 0.6100451),\n",
       "  \"Hundreds Of Unwanted Pets Dumped On 'Dead Dog Beach'\",\n",
       "  'A dog with a broken leg and pellet wound in his neck limps along a beach, helpless, wondering if he will ever be safe again'),\n",
       " ((40531, 0.72241807),\n",
       "  'Four Migrants Drown Off Coast Of Morocco',\n",
       "  'They were in an inflatable boat.')]"
      ]
     },
     "execution_count": 46,
     "metadata": {},
     "output_type": "execute_result"
    }
   ],
   "source": [
    "result"
   ]
  },
  {
   "cell_type": "code",
   "execution_count": null,
   "metadata": {},
   "outputs": [],
   "source": []
  }
 ],
 "metadata": {
  "kernelspec": {
   "display_name": "Python 3",
   "language": "python",
   "name": "python3"
  },
  "language_info": {
   "codemirror_mode": {
    "name": "ipython",
    "version": 3
   },
   "file_extension": ".py",
   "mimetype": "text/x-python",
   "name": "python",
   "nbconvert_exporter": "python",
   "pygments_lexer": "ipython3",
   "version": "3.7.1"
  }
 },
 "nbformat": 4,
 "nbformat_minor": 2
}
